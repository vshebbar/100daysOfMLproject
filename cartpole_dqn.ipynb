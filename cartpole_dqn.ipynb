{
 "cells": [
  {
   "cell_type": "markdown",
   "metadata": {},
   "source": [
    "# Cartpole DQN"
   ]
  },
  {
   "cell_type": "markdown",
   "metadata": {},
   "source": [
    "Deep Q-Learning Network with Keras and OpenAI Gym, based on [Keon Kim's code](https://github.com/keon/deep-q-learning/blob/master/dqn.py)."
   ]
  },
  {
   "cell_type": "markdown",
   "metadata": {},
   "source": [
    "#### Select processing devices"
   ]
  },
  {
   "cell_type": "code",
   "execution_count": 1,
   "metadata": {
    "collapsed": true
   },
   "outputs": [],
   "source": [
    "# import os\n",
    "# os.environ[\"CUDA_DEVICE_ORDER\"] = \"PCI_BUS_ID\"\n",
    "# os.environ[\"CUDA_VISIBLE_DEVICES\"] = \"\"\n",
    "# os.environ[\"CUDA_VISIBLE_DEVICES\"] = \"1\""
   ]
  },
  {
   "cell_type": "markdown",
   "metadata": {},
   "source": [
    "#### Import dependencies"
   ]
  },
  {
   "cell_type": "code",
   "execution_count": 1,
   "metadata": {},
   "outputs": [
    {
     "name": "stderr",
     "output_type": "stream",
     "text": [
      "/anaconda3/lib/python3.6/site-packages/h5py/__init__.py:36: FutureWarning: Conversion of the second argument of issubdtype from `float` to `np.floating` is deprecated. In future, it will be treated as `np.float64 == np.dtype(float).type`.\n",
      "  from ._conv import register_converters as _register_converters\n",
      "Using TensorFlow backend.\n"
     ]
    }
   ],
   "source": [
    "import random\n",
    "import gym\n",
    "import numpy as np\n",
    "from collections import deque\n",
    "from keras.models import Sequential\n",
    "from keras.layers import Dense\n",
    "from keras.optimizers import Adam\n",
    "import os # for creating directories"
   ]
  },
  {
   "cell_type": "markdown",
   "metadata": {},
   "source": [
    "#### Set parameters"
   ]
  },
  {
   "cell_type": "code",
   "execution_count": 2,
   "metadata": {},
   "outputs": [
    {
     "name": "stdout",
     "output_type": "stream",
     "text": [
      "\u001b[33mWARN: gym.spaces.Box autodetected dtype as <class 'numpy.float32'>. Please provide explicit dtype.\u001b[0m\n"
     ]
    }
   ],
   "source": [
    "env = gym.make('CartPole-v0') # initialise environment"
   ]
  },
  {
   "cell_type": "code",
   "execution_count": 3,
   "metadata": {},
   "outputs": [
    {
     "data": {
      "text/plain": [
       "4"
      ]
     },
     "execution_count": 3,
     "metadata": {},
     "output_type": "execute_result"
    }
   ],
   "source": [
    "state_size = env.observation_space.shape[0]\n",
    "state_size"
   ]
  },
  {
   "cell_type": "code",
   "execution_count": 4,
   "metadata": {},
   "outputs": [
    {
     "data": {
      "text/plain": [
       "2"
      ]
     },
     "execution_count": 4,
     "metadata": {},
     "output_type": "execute_result"
    }
   ],
   "source": [
    "action_size = env.action_space.n\n",
    "action_size"
   ]
  },
  {
   "cell_type": "code",
   "execution_count": 5,
   "metadata": {},
   "outputs": [],
   "source": [
    "batch_size = 32"
   ]
  },
  {
   "cell_type": "code",
   "execution_count": 6,
   "metadata": {},
   "outputs": [],
   "source": [
    "n_episodes = 1001 # n games we want agent to play (default 1001)"
   ]
  },
  {
   "cell_type": "code",
   "execution_count": 7,
   "metadata": {},
   "outputs": [],
   "source": [
    "output_dir = 'model_output/cartpole/'"
   ]
  },
  {
   "cell_type": "code",
   "execution_count": 8,
   "metadata": {},
   "outputs": [],
   "source": [
    "if not os.path.exists(output_dir):\n",
    "    os.makedirs(output_dir)"
   ]
  },
  {
   "cell_type": "markdown",
   "metadata": {},
   "source": [
    "#### Define agent"
   ]
  },
  {
   "cell_type": "code",
   "execution_count": 9,
   "metadata": {},
   "outputs": [],
   "source": [
    "class DQNAgent:\n",
    "    def __init__(self, state_size, action_size):\n",
    "        self.state_size = state_size\n",
    "        self.action_size = action_size\n",
    "        self.memory = deque(maxlen=2000) # double-ended queue; acts like list, but elements can be added/removed from either end\n",
    "        self.gamma = 0.95 # decay or discount rate: enables agent to take into account future actions in addition to the immediate ones, but discounted at this rate\n",
    "        self.epsilon = 1.0 # exploration rate: how much to act randomly; more initially than later due to epsilon decay\n",
    "        self.epsilon_decay = 0.995 # decrease number of random explorations as the agent's performance (hopefully) improves over time\n",
    "        self.epsilon_min = 0.01 # minimum amount of random exploration permitted\n",
    "        self.learning_rate = 0.001 # rate at which NN adjusts models parameters via SGD to reduce cost \n",
    "        self.model = self._build_model() # private method \n",
    "    \n",
    "    def _build_model(self):\n",
    "        # neural net to approximate Q-value function:\n",
    "        model = Sequential()\n",
    "        model.add(Dense(24, input_dim=self.state_size, activation='relu')) # 1st hidden layer; states as input\n",
    "        model.add(Dense(24, activation='relu')) # 2nd hidden layer\n",
    "        model.add(Dense(self.action_size, activation='linear')) # 2 actions, so 2 output neurons: 0 and 1 (L/R)\n",
    "        model.compile(loss='mse',\n",
    "                      optimizer=Adam(lr=self.learning_rate))\n",
    "        return model\n",
    "    \n",
    "    def remember(self, state, action, reward, next_state, done):\n",
    "        self.memory.append((state, action, reward, next_state, done)) # list of previous experiences, enabling re-training later\n",
    "\n",
    "    def act(self, state):\n",
    "        if np.random.rand() <= self.epsilon: # if acting randomly, take random action\n",
    "            return random.randrange(self.action_size)\n",
    "        act_values = self.model.predict(state) # if not acting randomly, predict reward value based on current state\n",
    "        return np.argmax(act_values[0]) # pick the action that will give the highest reward (i.e., go left or right?)\n",
    "\n",
    "    def replay(self, batch_size): # method that trains NN with experiences sampled from memory\n",
    "        minibatch = random.sample(self.memory, batch_size) # sample a minibatch from memory\n",
    "        for state, action, reward, next_state, done in minibatch: # extract data for each minibatch sample\n",
    "            target = reward # if done (boolean whether game ended or not, i.e., whether final state or not), then target = reward\n",
    "            if not done: # if not done, then predict future discounted reward\n",
    "                target = (reward + self.gamma * # (target) = reward + (discount rate gamma) * \n",
    "                          np.amax(self.model.predict(next_state)[0])) # (maximum target Q based on future action a')\n",
    "            target_f = self.model.predict(state) # approximately map current state to future discounted reward\n",
    "            target_f[0][action] = target\n",
    "            self.model.fit(state, target_f, epochs=1, verbose=0) # single epoch of training with x=state, y=target_f; fit decreases loss btwn target_f and y_hat\n",
    "        if self.epsilon > self.epsilon_min:\n",
    "            self.epsilon *= self.epsilon_decay\n",
    "\n",
    "    def load(self, name):\n",
    "        self.model.load_weights(name)\n",
    "\n",
    "    def save(self, name):\n",
    "        self.model.save_weights(name)"
   ]
  },
  {
   "cell_type": "markdown",
   "metadata": {},
   "source": [
    "#### Interact with environment"
   ]
  },
  {
   "cell_type": "code",
   "execution_count": 10,
   "metadata": {},
   "outputs": [],
   "source": [
    "agent = DQNAgent(state_size, action_size) # initialise agent"
   ]
  },
  {
   "cell_type": "code",
   "execution_count": 11,
   "metadata": {},
   "outputs": [
    {
     "name": "stdout",
     "output_type": "stream",
     "text": [
      "episode: 0/1001, score: 24, e: 1.0\n",
      "episode: 1/1001, score: 11, e: 1.0\n",
      "episode: 2/1001, score: 21, e: 0.99\n",
      "episode: 3/1001, score: 10, e: 0.99\n",
      "episode: 4/1001, score: 17, e: 0.99\n",
      "episode: 5/1001, score: 14, e: 0.98\n",
      "episode: 6/1001, score: 23, e: 0.98\n",
      "episode: 7/1001, score: 23, e: 0.97\n",
      "episode: 8/1001, score: 11, e: 0.97\n",
      "episode: 9/1001, score: 8, e: 0.96\n",
      "episode: 10/1001, score: 12, e: 0.96\n",
      "episode: 11/1001, score: 16, e: 0.95\n",
      "episode: 12/1001, score: 24, e: 0.95\n",
      "episode: 13/1001, score: 21, e: 0.94\n",
      "episode: 14/1001, score: 10, e: 0.94\n",
      "episode: 15/1001, score: 34, e: 0.93\n",
      "episode: 16/1001, score: 50, e: 0.93\n",
      "episode: 17/1001, score: 12, e: 0.92\n",
      "episode: 18/1001, score: 17, e: 0.92\n",
      "episode: 19/1001, score: 33, e: 0.91\n",
      "episode: 20/1001, score: 21, e: 0.91\n",
      "episode: 21/1001, score: 23, e: 0.9\n",
      "episode: 22/1001, score: 15, e: 0.9\n",
      "episode: 23/1001, score: 23, e: 0.9\n",
      "episode: 24/1001, score: 20, e: 0.89\n",
      "episode: 25/1001, score: 18, e: 0.89\n",
      "episode: 26/1001, score: 45, e: 0.88\n",
      "episode: 27/1001, score: 19, e: 0.88\n",
      "episode: 28/1001, score: 30, e: 0.87\n",
      "episode: 29/1001, score: 10, e: 0.87\n",
      "episode: 30/1001, score: 46, e: 0.86\n",
      "episode: 31/1001, score: 9, e: 0.86\n",
      "episode: 32/1001, score: 33, e: 0.86\n",
      "episode: 33/1001, score: 19, e: 0.85\n",
      "episode: 34/1001, score: 25, e: 0.85\n",
      "episode: 35/1001, score: 13, e: 0.84\n",
      "episode: 36/1001, score: 15, e: 0.84\n",
      "episode: 37/1001, score: 44, e: 0.83\n",
      "episode: 38/1001, score: 20, e: 0.83\n",
      "episode: 39/1001, score: 10, e: 0.83\n",
      "episode: 40/1001, score: 14, e: 0.82\n",
      "episode: 41/1001, score: 26, e: 0.82\n",
      "episode: 42/1001, score: 14, e: 0.81\n",
      "episode: 43/1001, score: 14, e: 0.81\n",
      "episode: 44/1001, score: 12, e: 0.81\n",
      "episode: 45/1001, score: 9, e: 0.8\n",
      "episode: 46/1001, score: 23, e: 0.8\n",
      "episode: 47/1001, score: 18, e: 0.79\n",
      "episode: 48/1001, score: 16, e: 0.79\n",
      "episode: 49/1001, score: 14, e: 0.79\n",
      "episode: 50/1001, score: 15, e: 0.78\n",
      "episode: 51/1001, score: 17, e: 0.78\n",
      "episode: 52/1001, score: 13, e: 0.77\n",
      "episode: 53/1001, score: 50, e: 0.77\n",
      "episode: 54/1001, score: 16, e: 0.77\n",
      "episode: 55/1001, score: 40, e: 0.76\n",
      "episode: 56/1001, score: 10, e: 0.76\n",
      "episode: 57/1001, score: 18, e: 0.76\n",
      "episode: 58/1001, score: 37, e: 0.75\n",
      "episode: 59/1001, score: 7, e: 0.75\n",
      "episode: 60/1001, score: 17, e: 0.74\n",
      "episode: 61/1001, score: 9, e: 0.74\n",
      "episode: 62/1001, score: 15, e: 0.74\n",
      "episode: 63/1001, score: 19, e: 0.73\n",
      "episode: 64/1001, score: 12, e: 0.73\n",
      "episode: 65/1001, score: 9, e: 0.73\n",
      "episode: 66/1001, score: 8, e: 0.72\n",
      "episode: 67/1001, score: 23, e: 0.72\n",
      "episode: 68/1001, score: 14, e: 0.71\n",
      "episode: 69/1001, score: 31, e: 0.71\n",
      "episode: 70/1001, score: 25, e: 0.71\n",
      "episode: 71/1001, score: 9, e: 0.7\n",
      "episode: 72/1001, score: 22, e: 0.7\n",
      "episode: 73/1001, score: 24, e: 0.7\n",
      "episode: 74/1001, score: 18, e: 0.69\n",
      "episode: 75/1001, score: 24, e: 0.69\n",
      "episode: 76/1001, score: 22, e: 0.69\n",
      "episode: 77/1001, score: 28, e: 0.68\n",
      "episode: 78/1001, score: 38, e: 0.68\n",
      "episode: 79/1001, score: 10, e: 0.68\n",
      "episode: 80/1001, score: 13, e: 0.67\n",
      "episode: 81/1001, score: 15, e: 0.67\n",
      "episode: 82/1001, score: 21, e: 0.67\n",
      "episode: 83/1001, score: 21, e: 0.66\n",
      "episode: 84/1001, score: 23, e: 0.66\n",
      "episode: 85/1001, score: 31, e: 0.66\n",
      "episode: 86/1001, score: 19, e: 0.65\n",
      "episode: 87/1001, score: 13, e: 0.65\n",
      "episode: 88/1001, score: 8, e: 0.65\n",
      "episode: 89/1001, score: 30, e: 0.64\n",
      "episode: 90/1001, score: 12, e: 0.64\n",
      "episode: 91/1001, score: 14, e: 0.64\n",
      "episode: 92/1001, score: 40, e: 0.63\n",
      "episode: 93/1001, score: 10, e: 0.63\n",
      "episode: 94/1001, score: 15, e: 0.63\n",
      "episode: 95/1001, score: 24, e: 0.62\n",
      "episode: 96/1001, score: 44, e: 0.62\n",
      "episode: 97/1001, score: 37, e: 0.62\n",
      "episode: 98/1001, score: 51, e: 0.61\n",
      "episode: 99/1001, score: 20, e: 0.61\n",
      "episode: 100/1001, score: 36, e: 0.61\n",
      "episode: 101/1001, score: 14, e: 0.61\n",
      "episode: 102/1001, score: 80, e: 0.6\n",
      "episode: 103/1001, score: 34, e: 0.6\n",
      "episode: 104/1001, score: 30, e: 0.6\n",
      "episode: 105/1001, score: 29, e: 0.59\n",
      "episode: 106/1001, score: 15, e: 0.59\n",
      "episode: 107/1001, score: 22, e: 0.59\n",
      "episode: 108/1001, score: 16, e: 0.58\n",
      "episode: 109/1001, score: 9, e: 0.58\n",
      "episode: 110/1001, score: 16, e: 0.58\n",
      "episode: 111/1001, score: 12, e: 0.58\n",
      "episode: 112/1001, score: 16, e: 0.57\n",
      "episode: 113/1001, score: 11, e: 0.57\n",
      "episode: 114/1001, score: 13, e: 0.57\n",
      "episode: 115/1001, score: 13, e: 0.56\n",
      "episode: 116/1001, score: 11, e: 0.56\n",
      "episode: 117/1001, score: 12, e: 0.56\n",
      "episode: 118/1001, score: 14, e: 0.56\n",
      "episode: 119/1001, score: 11, e: 0.55\n",
      "episode: 120/1001, score: 8, e: 0.55\n",
      "episode: 121/1001, score: 16, e: 0.55\n",
      "episode: 122/1001, score: 25, e: 0.55\n",
      "episode: 123/1001, score: 13, e: 0.54\n",
      "episode: 124/1001, score: 22, e: 0.54\n",
      "episode: 125/1001, score: 15, e: 0.54\n",
      "episode: 126/1001, score: 23, e: 0.53\n",
      "episode: 127/1001, score: 26, e: 0.53\n",
      "episode: 128/1001, score: 34, e: 0.53\n",
      "episode: 129/1001, score: 14, e: 0.53\n",
      "episode: 130/1001, score: 22, e: 0.52\n",
      "episode: 131/1001, score: 19, e: 0.52\n",
      "episode: 132/1001, score: 17, e: 0.52\n",
      "episode: 133/1001, score: 75, e: 0.52\n",
      "episode: 134/1001, score: 23, e: 0.51\n",
      "episode: 135/1001, score: 35, e: 0.51\n",
      "episode: 136/1001, score: 106, e: 0.51\n",
      "episode: 137/1001, score: 17, e: 0.51\n",
      "episode: 138/1001, score: 39, e: 0.5\n",
      "episode: 139/1001, score: 22, e: 0.5\n",
      "episode: 140/1001, score: 48, e: 0.5\n",
      "episode: 141/1001, score: 64, e: 0.5\n",
      "episode: 142/1001, score: 28, e: 0.49\n",
      "episode: 143/1001, score: 25, e: 0.49\n",
      "episode: 144/1001, score: 27, e: 0.49\n",
      "episode: 145/1001, score: 85, e: 0.49\n",
      "episode: 146/1001, score: 19, e: 0.48\n",
      "episode: 147/1001, score: 42, e: 0.48\n",
      "episode: 148/1001, score: 28, e: 0.48\n",
      "episode: 149/1001, score: 39, e: 0.48\n",
      "episode: 150/1001, score: 19, e: 0.47\n",
      "episode: 151/1001, score: 25, e: 0.47\n",
      "episode: 152/1001, score: 18, e: 0.47\n",
      "episode: 153/1001, score: 16, e: 0.47\n",
      "episode: 154/1001, score: 20, e: 0.46\n",
      "episode: 155/1001, score: 17, e: 0.46\n",
      "episode: 156/1001, score: 23, e: 0.46\n",
      "episode: 157/1001, score: 35, e: 0.46\n",
      "episode: 158/1001, score: 42, e: 0.46\n",
      "episode: 159/1001, score: 36, e: 0.45\n",
      "episode: 160/1001, score: 27, e: 0.45\n",
      "episode: 161/1001, score: 62, e: 0.45\n",
      "episode: 162/1001, score: 10, e: 0.45\n",
      "episode: 163/1001, score: 36, e: 0.44\n",
      "episode: 164/1001, score: 75, e: 0.44\n",
      "episode: 165/1001, score: 45, e: 0.44\n",
      "episode: 166/1001, score: 60, e: 0.44\n",
      "episode: 167/1001, score: 38, e: 0.44\n",
      "episode: 168/1001, score: 26, e: 0.43\n",
      "episode: 169/1001, score: 23, e: 0.43\n",
      "episode: 170/1001, score: 22, e: 0.43\n",
      "episode: 171/1001, score: 15, e: 0.43\n",
      "episode: 172/1001, score: 13, e: 0.42\n",
      "episode: 173/1001, score: 11, e: 0.42\n",
      "episode: 174/1001, score: 21, e: 0.42\n",
      "episode: 175/1001, score: 28, e: 0.42\n",
      "episode: 176/1001, score: 41, e: 0.42\n",
      "episode: 177/1001, score: 173, e: 0.41\n",
      "episode: 178/1001, score: 23, e: 0.41\n",
      "episode: 179/1001, score: 22, e: 0.41\n",
      "episode: 180/1001, score: 118, e: 0.41\n",
      "episode: 181/1001, score: 71, e: 0.41\n",
      "episode: 182/1001, score: 76, e: 0.4\n",
      "episode: 183/1001, score: 21, e: 0.4\n",
      "episode: 184/1001, score: 22, e: 0.4\n",
      "episode: 185/1001, score: 17, e: 0.4\n",
      "episode: 186/1001, score: 32, e: 0.4\n",
      "episode: 187/1001, score: 32, e: 0.39\n",
      "episode: 188/1001, score: 35, e: 0.39\n",
      "episode: 189/1001, score: 33, e: 0.39\n",
      "episode: 190/1001, score: 33, e: 0.39\n",
      "episode: 191/1001, score: 34, e: 0.39\n",
      "episode: 192/1001, score: 38, e: 0.38\n",
      "episode: 193/1001, score: 62, e: 0.38\n",
      "episode: 194/1001, score: 33, e: 0.38\n",
      "episode: 195/1001, score: 44, e: 0.38\n",
      "episode: 196/1001, score: 47, e: 0.38\n",
      "episode: 197/1001, score: 39, e: 0.37\n",
      "episode: 198/1001, score: 27, e: 0.37\n",
      "episode: 199/1001, score: 22, e: 0.37\n",
      "episode: 200/1001, score: 22, e: 0.37\n",
      "episode: 201/1001, score: 10, e: 0.37\n",
      "episode: 202/1001, score: 21, e: 0.37\n",
      "episode: 203/1001, score: 16, e: 0.36\n",
      "episode: 204/1001, score: 16, e: 0.36\n",
      "episode: 205/1001, score: 16, e: 0.36\n",
      "episode: 206/1001, score: 20, e: 0.36\n",
      "episode: 207/1001, score: 21, e: 0.36\n",
      "episode: 208/1001, score: 15, e: 0.35\n",
      "episode: 209/1001, score: 24, e: 0.35\n",
      "episode: 210/1001, score: 29, e: 0.35\n",
      "episode: 211/1001, score: 26, e: 0.35\n",
      "episode: 212/1001, score: 20, e: 0.35\n",
      "episode: 213/1001, score: 14, e: 0.35\n",
      "episode: 214/1001, score: 17, e: 0.34\n",
      "episode: 215/1001, score: 13, e: 0.34\n",
      "episode: 216/1001, score: 16, e: 0.34\n",
      "episode: 217/1001, score: 24, e: 0.34\n",
      "episode: 218/1001, score: 32, e: 0.34\n",
      "episode: 219/1001, score: 47, e: 0.34\n"
     ]
    },
    {
     "name": "stdout",
     "output_type": "stream",
     "text": [
      "episode: 220/1001, score: 37, e: 0.33\n",
      "episode: 221/1001, score: 19, e: 0.33\n",
      "episode: 222/1001, score: 15, e: 0.33\n",
      "episode: 223/1001, score: 26, e: 0.33\n",
      "episode: 224/1001, score: 21, e: 0.33\n",
      "episode: 225/1001, score: 28, e: 0.33\n",
      "episode: 226/1001, score: 21, e: 0.32\n",
      "episode: 227/1001, score: 51, e: 0.32\n",
      "episode: 228/1001, score: 57, e: 0.32\n",
      "episode: 229/1001, score: 54, e: 0.32\n",
      "episode: 230/1001, score: 66, e: 0.32\n",
      "episode: 231/1001, score: 103, e: 0.32\n",
      "episode: 232/1001, score: 40, e: 0.31\n",
      "episode: 233/1001, score: 39, e: 0.31\n",
      "episode: 234/1001, score: 91, e: 0.31\n",
      "episode: 235/1001, score: 74, e: 0.31\n",
      "episode: 236/1001, score: 123, e: 0.31\n",
      "episode: 237/1001, score: 97, e: 0.31\n",
      "episode: 238/1001, score: 73, e: 0.3\n",
      "episode: 239/1001, score: 37, e: 0.3\n",
      "episode: 240/1001, score: 32, e: 0.3\n",
      "episode: 241/1001, score: 190, e: 0.3\n",
      "episode: 242/1001, score: 57, e: 0.3\n",
      "episode: 243/1001, score: 139, e: 0.3\n",
      "episode: 244/1001, score: 86, e: 0.3\n",
      "episode: 245/1001, score: 44, e: 0.29\n",
      "episode: 246/1001, score: 47, e: 0.29\n",
      "episode: 247/1001, score: 30, e: 0.29\n",
      "episode: 248/1001, score: 54, e: 0.29\n",
      "episode: 249/1001, score: 42, e: 0.29\n",
      "episode: 250/1001, score: 57, e: 0.29\n",
      "episode: 251/1001, score: 96, e: 0.29\n",
      "episode: 252/1001, score: 79, e: 0.28\n",
      "episode: 253/1001, score: 38, e: 0.28\n",
      "episode: 254/1001, score: 60, e: 0.28\n",
      "episode: 255/1001, score: 44, e: 0.28\n",
      "episode: 256/1001, score: 21, e: 0.28\n",
      "episode: 257/1001, score: 42, e: 0.28\n",
      "episode: 258/1001, score: 26, e: 0.28\n",
      "episode: 259/1001, score: 28, e: 0.27\n",
      "episode: 260/1001, score: 28, e: 0.27\n",
      "episode: 261/1001, score: 16, e: 0.27\n",
      "episode: 262/1001, score: 101, e: 0.27\n",
      "episode: 263/1001, score: 69, e: 0.27\n",
      "episode: 264/1001, score: 116, e: 0.27\n",
      "episode: 265/1001, score: 116, e: 0.27\n",
      "episode: 266/1001, score: 143, e: 0.26\n",
      "episode: 267/1001, score: 134, e: 0.26\n",
      "episode: 268/1001, score: 53, e: 0.26\n",
      "episode: 269/1001, score: 22, e: 0.26\n",
      "episode: 270/1001, score: 43, e: 0.26\n",
      "episode: 271/1001, score: 85, e: 0.26\n",
      "episode: 272/1001, score: 105, e: 0.26\n",
      "episode: 273/1001, score: 107, e: 0.26\n",
      "episode: 274/1001, score: 93, e: 0.25\n",
      "episode: 275/1001, score: 99, e: 0.25\n",
      "episode: 276/1001, score: 72, e: 0.25\n",
      "episode: 277/1001, score: 99, e: 0.25\n",
      "episode: 278/1001, score: 102, e: 0.25\n",
      "episode: 279/1001, score: 105, e: 0.25\n",
      "episode: 280/1001, score: 90, e: 0.25\n",
      "episode: 281/1001, score: 199, e: 0.25\n",
      "episode: 282/1001, score: 105, e: 0.24\n",
      "episode: 283/1001, score: 140, e: 0.24\n",
      "episode: 284/1001, score: 182, e: 0.24\n",
      "episode: 285/1001, score: 106, e: 0.24\n",
      "episode: 286/1001, score: 199, e: 0.24\n",
      "episode: 287/1001, score: 199, e: 0.24\n",
      "episode: 288/1001, score: 113, e: 0.24\n",
      "episode: 289/1001, score: 126, e: 0.24\n",
      "episode: 290/1001, score: 91, e: 0.23\n",
      "episode: 291/1001, score: 121, e: 0.23\n",
      "episode: 292/1001, score: 139, e: 0.23\n",
      "episode: 293/1001, score: 46, e: 0.23\n",
      "episode: 294/1001, score: 66, e: 0.23\n",
      "episode: 295/1001, score: 177, e: 0.23\n",
      "episode: 296/1001, score: 157, e: 0.23\n",
      "episode: 297/1001, score: 131, e: 0.23\n",
      "episode: 298/1001, score: 144, e: 0.23\n",
      "episode: 299/1001, score: 139, e: 0.22\n",
      "episode: 300/1001, score: 125, e: 0.22\n",
      "episode: 301/1001, score: 144, e: 0.22\n",
      "episode: 302/1001, score: 149, e: 0.22\n",
      "episode: 303/1001, score: 144, e: 0.22\n",
      "episode: 304/1001, score: 130, e: 0.22\n",
      "episode: 305/1001, score: 169, e: 0.22\n",
      "episode: 306/1001, score: 174, e: 0.22\n",
      "episode: 307/1001, score: 152, e: 0.22\n",
      "episode: 308/1001, score: 138, e: 0.21\n",
      "episode: 309/1001, score: 199, e: 0.21\n",
      "episode: 310/1001, score: 83, e: 0.21\n",
      "episode: 311/1001, score: 145, e: 0.21\n",
      "episode: 312/1001, score: 176, e: 0.21\n",
      "episode: 313/1001, score: 54, e: 0.21\n",
      "episode: 314/1001, score: 97, e: 0.21\n",
      "episode: 315/1001, score: 61, e: 0.21\n",
      "episode: 316/1001, score: 77, e: 0.21\n",
      "episode: 317/1001, score: 160, e: 0.21\n",
      "episode: 318/1001, score: 199, e: 0.2\n",
      "episode: 319/1001, score: 160, e: 0.2\n",
      "episode: 320/1001, score: 124, e: 0.2\n",
      "episode: 321/1001, score: 199, e: 0.2\n",
      "episode: 322/1001, score: 199, e: 0.2\n",
      "episode: 323/1001, score: 199, e: 0.2\n",
      "episode: 324/1001, score: 150, e: 0.2\n",
      "episode: 325/1001, score: 135, e: 0.2\n",
      "episode: 326/1001, score: 154, e: 0.2\n",
      "episode: 327/1001, score: 168, e: 0.2\n",
      "episode: 328/1001, score: 149, e: 0.19\n",
      "episode: 329/1001, score: 199, e: 0.19\n",
      "episode: 330/1001, score: 126, e: 0.19\n",
      "episode: 331/1001, score: 129, e: 0.19\n",
      "episode: 332/1001, score: 108, e: 0.19\n",
      "episode: 333/1001, score: 199, e: 0.19\n",
      "episode: 334/1001, score: 199, e: 0.19\n",
      "episode: 335/1001, score: 160, e: 0.19\n",
      "episode: 336/1001, score: 142, e: 0.19\n",
      "episode: 337/1001, score: 185, e: 0.19\n",
      "episode: 338/1001, score: 66, e: 0.18\n",
      "episode: 339/1001, score: 61, e: 0.18\n",
      "episode: 340/1001, score: 137, e: 0.18\n",
      "episode: 341/1001, score: 199, e: 0.18\n",
      "episode: 342/1001, score: 199, e: 0.18\n",
      "episode: 343/1001, score: 199, e: 0.18\n",
      "episode: 344/1001, score: 199, e: 0.18\n",
      "episode: 345/1001, score: 199, e: 0.18\n",
      "episode: 346/1001, score: 199, e: 0.18\n",
      "episode: 347/1001, score: 199, e: 0.18\n",
      "episode: 348/1001, score: 166, e: 0.18\n",
      "episode: 349/1001, score: 199, e: 0.17\n",
      "episode: 350/1001, score: 199, e: 0.17\n",
      "episode: 351/1001, score: 199, e: 0.17\n",
      "episode: 352/1001, score: 199, e: 0.17\n",
      "episode: 353/1001, score: 186, e: 0.17\n",
      "episode: 354/1001, score: 199, e: 0.17\n",
      "episode: 355/1001, score: 158, e: 0.17\n",
      "episode: 356/1001, score: 196, e: 0.17\n",
      "episode: 357/1001, score: 53, e: 0.17\n",
      "episode: 358/1001, score: 199, e: 0.17\n",
      "episode: 359/1001, score: 164, e: 0.17\n",
      "episode: 360/1001, score: 57, e: 0.17\n",
      "episode: 361/1001, score: 167, e: 0.16\n",
      "episode: 362/1001, score: 149, e: 0.16\n",
      "episode: 363/1001, score: 199, e: 0.16\n",
      "episode: 364/1001, score: 199, e: 0.16\n",
      "episode: 365/1001, score: 157, e: 0.16\n",
      "episode: 366/1001, score: 199, e: 0.16\n",
      "episode: 367/1001, score: 199, e: 0.16\n",
      "episode: 368/1001, score: 36, e: 0.16\n",
      "episode: 369/1001, score: 30, e: 0.16\n",
      "episode: 370/1001, score: 106, e: 0.16\n",
      "episode: 371/1001, score: 111, e: 0.16\n",
      "episode: 372/1001, score: 199, e: 0.16\n",
      "episode: 373/1001, score: 179, e: 0.15\n",
      "episode: 374/1001, score: 143, e: 0.15\n",
      "episode: 375/1001, score: 171, e: 0.15\n",
      "episode: 376/1001, score: 199, e: 0.15\n",
      "episode: 377/1001, score: 199, e: 0.15\n",
      "episode: 378/1001, score: 130, e: 0.15\n",
      "episode: 379/1001, score: 199, e: 0.15\n",
      "episode: 380/1001, score: 45, e: 0.15\n",
      "episode: 381/1001, score: 105, e: 0.15\n",
      "episode: 382/1001, score: 107, e: 0.15\n",
      "episode: 383/1001, score: 170, e: 0.15\n",
      "episode: 384/1001, score: 83, e: 0.15\n",
      "episode: 385/1001, score: 60, e: 0.15\n",
      "episode: 386/1001, score: 33, e: 0.15\n",
      "episode: 387/1001, score: 82, e: 0.14\n",
      "episode: 388/1001, score: 166, e: 0.14\n",
      "episode: 389/1001, score: 156, e: 0.14\n",
      "episode: 390/1001, score: 188, e: 0.14\n",
      "episode: 391/1001, score: 199, e: 0.14\n",
      "episode: 392/1001, score: 146, e: 0.14\n",
      "episode: 393/1001, score: 98, e: 0.14\n",
      "episode: 394/1001, score: 113, e: 0.14\n",
      "episode: 395/1001, score: 199, e: 0.14\n",
      "episode: 396/1001, score: 199, e: 0.14\n",
      "episode: 397/1001, score: 199, e: 0.14\n",
      "episode: 398/1001, score: 183, e: 0.14\n",
      "episode: 399/1001, score: 108, e: 0.14\n",
      "episode: 400/1001, score: 103, e: 0.14\n",
      "episode: 401/1001, score: 149, e: 0.13\n",
      "episode: 402/1001, score: 199, e: 0.13\n",
      "episode: 403/1001, score: 199, e: 0.13\n",
      "episode: 404/1001, score: 199, e: 0.13\n",
      "episode: 405/1001, score: 105, e: 0.13\n",
      "episode: 406/1001, score: 131, e: 0.13\n",
      "episode: 407/1001, score: 180, e: 0.13\n",
      "episode: 408/1001, score: 199, e: 0.13\n",
      "episode: 409/1001, score: 108, e: 0.13\n",
      "episode: 410/1001, score: 115, e: 0.13\n",
      "episode: 411/1001, score: 199, e: 0.13\n",
      "episode: 412/1001, score: 199, e: 0.13\n",
      "episode: 413/1001, score: 199, e: 0.13\n",
      "episode: 414/1001, score: 153, e: 0.13\n",
      "episode: 415/1001, score: 199, e: 0.13\n",
      "episode: 416/1001, score: 199, e: 0.12\n",
      "episode: 417/1001, score: 149, e: 0.12\n",
      "episode: 418/1001, score: 140, e: 0.12\n",
      "episode: 419/1001, score: 183, e: 0.12\n",
      "episode: 420/1001, score: 191, e: 0.12\n",
      "episode: 421/1001, score: 199, e: 0.12\n",
      "episode: 422/1001, score: 199, e: 0.12\n",
      "episode: 423/1001, score: 183, e: 0.12\n",
      "episode: 424/1001, score: 188, e: 0.12\n",
      "episode: 425/1001, score: 199, e: 0.12\n",
      "episode: 426/1001, score: 172, e: 0.12\n",
      "episode: 427/1001, score: 199, e: 0.12\n",
      "episode: 428/1001, score: 128, e: 0.12\n",
      "episode: 429/1001, score: 199, e: 0.12\n",
      "episode: 430/1001, score: 159, e: 0.12\n",
      "episode: 431/1001, score: 166, e: 0.12\n",
      "episode: 432/1001, score: 177, e: 0.12\n"
     ]
    },
    {
     "name": "stdout",
     "output_type": "stream",
     "text": [
      "episode: 433/1001, score: 161, e: 0.11\n",
      "episode: 434/1001, score: 199, e: 0.11\n",
      "episode: 435/1001, score: 199, e: 0.11\n",
      "episode: 436/1001, score: 147, e: 0.11\n",
      "episode: 437/1001, score: 94, e: 0.11\n",
      "episode: 438/1001, score: 199, e: 0.11\n",
      "episode: 439/1001, score: 199, e: 0.11\n",
      "episode: 440/1001, score: 199, e: 0.11\n",
      "episode: 441/1001, score: 199, e: 0.11\n",
      "episode: 442/1001, score: 199, e: 0.11\n"
     ]
    },
    {
     "ename": "KeyboardInterrupt",
     "evalue": "",
     "output_type": "error",
     "traceback": [
      "\u001b[0;31m---------------------------------------------------------------------------\u001b[0m",
      "\u001b[0;31mKeyboardInterrupt\u001b[0m                         Traceback (most recent call last)",
      "\u001b[0;32m<ipython-input-11-0ff1eae62fdb>\u001b[0m in \u001b[0;36m<module>\u001b[0;34m()\u001b[0m\n\u001b[1;32m      5\u001b[0m \u001b[0;34m\u001b[0m\u001b[0m\n\u001b[1;32m      6\u001b[0m     \u001b[0;32mfor\u001b[0m \u001b[0mtime\u001b[0m \u001b[0;32min\u001b[0m \u001b[0mrange\u001b[0m\u001b[0;34m(\u001b[0m\u001b[0;36m5000\u001b[0m\u001b[0;34m)\u001b[0m\u001b[0;34m:\u001b[0m  \u001b[0;31m# time represents a frame of the game; goal is to keep pole upright as long as possible up to range, e.g., 500 or 5000 timesteps\u001b[0m\u001b[0;34m\u001b[0m\u001b[0m\n\u001b[0;32m----> 7\u001b[0;31m         \u001b[0menv\u001b[0m\u001b[0;34m.\u001b[0m\u001b[0mrender\u001b[0m\u001b[0;34m(\u001b[0m\u001b[0;34m)\u001b[0m\u001b[0;34m\u001b[0m\u001b[0m\n\u001b[0m\u001b[1;32m      8\u001b[0m         \u001b[0maction\u001b[0m \u001b[0;34m=\u001b[0m \u001b[0magent\u001b[0m\u001b[0;34m.\u001b[0m\u001b[0mact\u001b[0m\u001b[0;34m(\u001b[0m\u001b[0mstate\u001b[0m\u001b[0;34m)\u001b[0m \u001b[0;31m# action is either 0 or 1 (move cart left or right); decide on one or other here\u001b[0m\u001b[0;34m\u001b[0m\u001b[0m\n\u001b[1;32m      9\u001b[0m         \u001b[0mnext_state\u001b[0m\u001b[0;34m,\u001b[0m \u001b[0mreward\u001b[0m\u001b[0;34m,\u001b[0m \u001b[0mdone\u001b[0m\u001b[0;34m,\u001b[0m \u001b[0m_\u001b[0m \u001b[0;34m=\u001b[0m \u001b[0menv\u001b[0m\u001b[0;34m.\u001b[0m\u001b[0mstep\u001b[0m\u001b[0;34m(\u001b[0m\u001b[0maction\u001b[0m\u001b[0;34m)\u001b[0m \u001b[0;31m# agent interacts with env, gets feedback; 4 state data points, e.g., pole angle, cart position\u001b[0m\u001b[0;34m\u001b[0m\u001b[0m\n",
      "\u001b[0;32m/anaconda3/lib/python3.6/site-packages/gym/core.py\u001b[0m in \u001b[0;36mrender\u001b[0;34m(self, mode)\u001b[0m\n\u001b[1;32m    282\u001b[0m \u001b[0;34m\u001b[0m\u001b[0m\n\u001b[1;32m    283\u001b[0m     \u001b[0;32mdef\u001b[0m \u001b[0mrender\u001b[0m\u001b[0;34m(\u001b[0m\u001b[0mself\u001b[0m\u001b[0;34m,\u001b[0m \u001b[0mmode\u001b[0m\u001b[0;34m=\u001b[0m\u001b[0;34m'human'\u001b[0m\u001b[0;34m)\u001b[0m\u001b[0;34m:\u001b[0m\u001b[0;34m\u001b[0m\u001b[0m\n\u001b[0;32m--> 284\u001b[0;31m         \u001b[0;32mreturn\u001b[0m \u001b[0mself\u001b[0m\u001b[0;34m.\u001b[0m\u001b[0menv\u001b[0m\u001b[0;34m.\u001b[0m\u001b[0mrender\u001b[0m\u001b[0;34m(\u001b[0m\u001b[0mmode\u001b[0m\u001b[0;34m)\u001b[0m\u001b[0;34m\u001b[0m\u001b[0m\n\u001b[0m\u001b[1;32m    285\u001b[0m \u001b[0;34m\u001b[0m\u001b[0m\n\u001b[1;32m    286\u001b[0m     \u001b[0;32mdef\u001b[0m \u001b[0mclose\u001b[0m\u001b[0;34m(\u001b[0m\u001b[0mself\u001b[0m\u001b[0;34m)\u001b[0m\u001b[0;34m:\u001b[0m\u001b[0;34m\u001b[0m\u001b[0m\n",
      "\u001b[0;32m/anaconda3/lib/python3.6/site-packages/gym/envs/classic_control/cartpole.py\u001b[0m in \u001b[0;36mrender\u001b[0;34m(self, mode)\u001b[0m\n\u001b[1;32m    135\u001b[0m         \u001b[0mself\u001b[0m\u001b[0;34m.\u001b[0m\u001b[0mpoletrans\u001b[0m\u001b[0;34m.\u001b[0m\u001b[0mset_rotation\u001b[0m\u001b[0;34m(\u001b[0m\u001b[0;34m-\u001b[0m\u001b[0mx\u001b[0m\u001b[0;34m[\u001b[0m\u001b[0;36m2\u001b[0m\u001b[0;34m]\u001b[0m\u001b[0;34m)\u001b[0m\u001b[0;34m\u001b[0m\u001b[0m\n\u001b[1;32m    136\u001b[0m \u001b[0;34m\u001b[0m\u001b[0m\n\u001b[0;32m--> 137\u001b[0;31m         \u001b[0;32mreturn\u001b[0m \u001b[0mself\u001b[0m\u001b[0;34m.\u001b[0m\u001b[0mviewer\u001b[0m\u001b[0;34m.\u001b[0m\u001b[0mrender\u001b[0m\u001b[0;34m(\u001b[0m\u001b[0mreturn_rgb_array\u001b[0m \u001b[0;34m=\u001b[0m \u001b[0mmode\u001b[0m\u001b[0;34m==\u001b[0m\u001b[0;34m'rgb_array'\u001b[0m\u001b[0;34m)\u001b[0m\u001b[0;34m\u001b[0m\u001b[0m\n\u001b[0m\u001b[1;32m    138\u001b[0m \u001b[0;34m\u001b[0m\u001b[0m\n\u001b[1;32m    139\u001b[0m     \u001b[0;32mdef\u001b[0m \u001b[0mclose\u001b[0m\u001b[0;34m(\u001b[0m\u001b[0mself\u001b[0m\u001b[0;34m)\u001b[0m\u001b[0;34m:\u001b[0m\u001b[0;34m\u001b[0m\u001b[0m\n",
      "\u001b[0;32m/anaconda3/lib/python3.6/site-packages/gym/envs/classic_control/rendering.py\u001b[0m in \u001b[0;36mrender\u001b[0;34m(self, return_rgb_array)\u001b[0m\n\u001b[1;32m     86\u001b[0m         \u001b[0mself\u001b[0m\u001b[0;34m.\u001b[0m\u001b[0mtransform\u001b[0m\u001b[0;34m.\u001b[0m\u001b[0menable\u001b[0m\u001b[0;34m(\u001b[0m\u001b[0;34m)\u001b[0m\u001b[0;34m\u001b[0m\u001b[0m\n\u001b[1;32m     87\u001b[0m         \u001b[0;32mfor\u001b[0m \u001b[0mgeom\u001b[0m \u001b[0;32min\u001b[0m \u001b[0mself\u001b[0m\u001b[0;34m.\u001b[0m\u001b[0mgeoms\u001b[0m\u001b[0;34m:\u001b[0m\u001b[0;34m\u001b[0m\u001b[0m\n\u001b[0;32m---> 88\u001b[0;31m             \u001b[0mgeom\u001b[0m\u001b[0;34m.\u001b[0m\u001b[0mrender\u001b[0m\u001b[0;34m(\u001b[0m\u001b[0;34m)\u001b[0m\u001b[0;34m\u001b[0m\u001b[0m\n\u001b[0m\u001b[1;32m     89\u001b[0m         \u001b[0;32mfor\u001b[0m \u001b[0mgeom\u001b[0m \u001b[0;32min\u001b[0m \u001b[0mself\u001b[0m\u001b[0;34m.\u001b[0m\u001b[0monetime_geoms\u001b[0m\u001b[0;34m:\u001b[0m\u001b[0;34m\u001b[0m\u001b[0m\n\u001b[1;32m     90\u001b[0m             \u001b[0mgeom\u001b[0m\u001b[0;34m.\u001b[0m\u001b[0mrender\u001b[0m\u001b[0;34m(\u001b[0m\u001b[0;34m)\u001b[0m\u001b[0;34m\u001b[0m\u001b[0m\n",
      "\u001b[0;32m/anaconda3/lib/python3.6/site-packages/gym/envs/classic_control/rendering.py\u001b[0m in \u001b[0;36mrender\u001b[0;34m(self)\u001b[0m\n\u001b[1;32m    156\u001b[0m         \u001b[0;32mfor\u001b[0m \u001b[0mattr\u001b[0m \u001b[0;32min\u001b[0m \u001b[0mreversed\u001b[0m\u001b[0;34m(\u001b[0m\u001b[0mself\u001b[0m\u001b[0;34m.\u001b[0m\u001b[0mattrs\u001b[0m\u001b[0;34m)\u001b[0m\u001b[0;34m:\u001b[0m\u001b[0;34m\u001b[0m\u001b[0m\n\u001b[1;32m    157\u001b[0m             \u001b[0mattr\u001b[0m\u001b[0;34m.\u001b[0m\u001b[0menable\u001b[0m\u001b[0;34m(\u001b[0m\u001b[0;34m)\u001b[0m\u001b[0;34m\u001b[0m\u001b[0m\n\u001b[0;32m--> 158\u001b[0;31m         \u001b[0mself\u001b[0m\u001b[0;34m.\u001b[0m\u001b[0mrender1\u001b[0m\u001b[0;34m(\u001b[0m\u001b[0;34m)\u001b[0m\u001b[0;34m\u001b[0m\u001b[0m\n\u001b[0m\u001b[1;32m    159\u001b[0m         \u001b[0;32mfor\u001b[0m \u001b[0mattr\u001b[0m \u001b[0;32min\u001b[0m \u001b[0mself\u001b[0m\u001b[0;34m.\u001b[0m\u001b[0mattrs\u001b[0m\u001b[0;34m:\u001b[0m\u001b[0;34m\u001b[0m\u001b[0m\n\u001b[1;32m    160\u001b[0m             \u001b[0mattr\u001b[0m\u001b[0;34m.\u001b[0m\u001b[0mdisable\u001b[0m\u001b[0;34m(\u001b[0m\u001b[0;34m)\u001b[0m\u001b[0;34m\u001b[0m\u001b[0m\n",
      "\u001b[0;32m/anaconda3/lib/python3.6/site-packages/gym/envs/classic_control/rendering.py\u001b[0m in \u001b[0;36mrender1\u001b[0;34m(self)\u001b[0m\n\u001b[1;32m    229\u001b[0m         \u001b[0;32melse\u001b[0m\u001b[0;34m:\u001b[0m \u001b[0mglBegin\u001b[0m\u001b[0;34m(\u001b[0m\u001b[0mGL_TRIANGLES\u001b[0m\u001b[0;34m)\u001b[0m\u001b[0;34m\u001b[0m\u001b[0m\n\u001b[1;32m    230\u001b[0m         \u001b[0;32mfor\u001b[0m \u001b[0mp\u001b[0m \u001b[0;32min\u001b[0m \u001b[0mself\u001b[0m\u001b[0;34m.\u001b[0m\u001b[0mv\u001b[0m\u001b[0;34m:\u001b[0m\u001b[0;34m\u001b[0m\u001b[0m\n\u001b[0;32m--> 231\u001b[0;31m             \u001b[0mglVertex3f\u001b[0m\u001b[0;34m(\u001b[0m\u001b[0mp\u001b[0m\u001b[0;34m[\u001b[0m\u001b[0;36m0\u001b[0m\u001b[0;34m]\u001b[0m\u001b[0;34m,\u001b[0m \u001b[0mp\u001b[0m\u001b[0;34m[\u001b[0m\u001b[0;36m1\u001b[0m\u001b[0;34m]\u001b[0m\u001b[0;34m,\u001b[0m\u001b[0;36m0\u001b[0m\u001b[0;34m)\u001b[0m  \u001b[0;31m# draw each vertex\u001b[0m\u001b[0;34m\u001b[0m\u001b[0m\n\u001b[0m\u001b[1;32m    232\u001b[0m         \u001b[0mglEnd\u001b[0m\u001b[0;34m(\u001b[0m\u001b[0;34m)\u001b[0m\u001b[0;34m\u001b[0m\u001b[0m\n\u001b[1;32m    233\u001b[0m \u001b[0;34m\u001b[0m\u001b[0m\n",
      "\u001b[0;32m/anaconda3/lib/python3.6/site-packages/pyglet/gl/lib.py\u001b[0m in \u001b[0;36merrcheck\u001b[0;34m(result, func, arguments)\u001b[0m\n\u001b[1;32m     82\u001b[0m     \u001b[0;32mpass\u001b[0m\u001b[0;34m\u001b[0m\u001b[0m\n\u001b[1;32m     83\u001b[0m \u001b[0;34m\u001b[0m\u001b[0m\n\u001b[0;32m---> 84\u001b[0;31m \u001b[0;32mdef\u001b[0m \u001b[0merrcheck\u001b[0m\u001b[0;34m(\u001b[0m\u001b[0mresult\u001b[0m\u001b[0;34m,\u001b[0m \u001b[0mfunc\u001b[0m\u001b[0;34m,\u001b[0m \u001b[0marguments\u001b[0m\u001b[0;34m)\u001b[0m\u001b[0;34m:\u001b[0m\u001b[0;34m\u001b[0m\u001b[0m\n\u001b[0m\u001b[1;32m     85\u001b[0m     \u001b[0;32mif\u001b[0m \u001b[0m_debug_gl_trace\u001b[0m\u001b[0;34m:\u001b[0m\u001b[0;34m\u001b[0m\u001b[0m\n\u001b[1;32m     86\u001b[0m         \u001b[0;32mtry\u001b[0m\u001b[0;34m:\u001b[0m\u001b[0;34m\u001b[0m\u001b[0m\n",
      "\u001b[0;31mKeyboardInterrupt\u001b[0m: "
     ]
    }
   ],
   "source": [
    "done = False\n",
    "for e in range(n_episodes): # iterate over new episodes of the game\n",
    "    state = env.reset() # reset state at start of each new episode of the game\n",
    "    state = np.reshape(state, [1, state_size])\n",
    "    \n",
    "    for time in range(5000):  # time represents a frame of the game; goal is to keep pole upright as long as possible up to range, e.g., 500 or 5000 timesteps\n",
    "        env.render()\n",
    "        action = agent.act(state) # action is either 0 or 1 (move cart left or right); decide on one or other here\n",
    "        next_state, reward, done, _ = env.step(action) # agent interacts with env, gets feedback; 4 state data points, e.g., pole angle, cart position        \n",
    "        reward = reward if not done else -10 # reward +1 for each additional frame with pole upright        \n",
    "        next_state = np.reshape(next_state, [1, state_size])\n",
    "        agent.remember(state, action, reward, next_state, done) # remember the previous timestep's state, actions, reward, etc.        \n",
    "        state = next_state # set \"current state\" for upcoming iteration to the current next state        \n",
    "        if done: # episode ends if agent drops pole or we reach timestep 5000\n",
    "            print(\"episode: {}/{}, score: {}, e: {:.2}\" # print the episode's score and agent's epsilon\n",
    "                  .format(e, n_episodes, time, agent.epsilon))\n",
    "            break # exit loop\n",
    "    if len(agent.memory) > batch_size:\n",
    "        agent.replay(batch_size) # train the agent by replaying the experiences of the episode\n",
    "    if e % 50 == 0:\n",
    "        agent.save(output_dir + \"weights_\" + '{:04d}'.format(e) + \".hdf5\")         "
   ]
  },
  {
   "cell_type": "code",
   "execution_count": 13,
   "metadata": {
    "collapsed": true
   },
   "outputs": [],
   "source": [
    "# saved agents can be loaded with agent.load(\"./path/filename.hdf5\") "
   ]
  },
  {
   "cell_type": "code",
   "execution_count": 12,
   "metadata": {},
   "outputs": [],
   "source": [
    "import pyglet"
   ]
  },
  {
   "cell_type": "code",
   "execution_count": 13,
   "metadata": {},
   "outputs": [
    {
     "data": {
      "text/plain": [
       "'$Id$'"
      ]
     },
     "execution_count": 13,
     "metadata": {},
     "output_type": "execute_result"
    }
   ],
   "source": [
    "pyglet.__version__"
   ]
  },
  {
   "cell_type": "code",
   "execution_count": 14,
   "metadata": {},
   "outputs": [
    {
     "name": "stdout",
     "output_type": "stream",
     "text": [
      "$Id$\n"
     ]
    }
   ],
   "source": [
    "print(pyglet.__version__)"
   ]
  },
  {
   "cell_type": "code",
   "execution_count": null,
   "metadata": {},
   "outputs": [],
   "source": []
  }
 ],
 "metadata": {
  "kernelspec": {
   "display_name": "Python 3",
   "language": "python",
   "name": "python3"
  },
  "language_info": {
   "codemirror_mode": {
    "name": "ipython",
    "version": 3
   },
   "file_extension": ".py",
   "mimetype": "text/x-python",
   "name": "python",
   "nbconvert_exporter": "python",
   "pygments_lexer": "ipython3",
   "version": "3.6.4"
  }
 },
 "nbformat": 4,
 "nbformat_minor": 2
}
